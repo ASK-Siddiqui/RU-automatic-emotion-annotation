{
  "cells": [
    {
      "cell_type": "code",
      "execution_count": null,
      "id": "df3c70bc",
      "metadata": {
        "id": "df3c70bc"
      },
      "outputs": [],
      "source": [
        "#**********************Description*********************************"
      ]
    },
    {
      "cell_type": "code",
      "execution_count": null,
      "id": "5b007784",
      "metadata": {
        "id": "5b007784"
      },
      "outputs": [],
      "source": [
        "# This code reads the emotions annotated file(CSV) ,performs emotion,"
      ]
    },
    {
      "cell_type": "code",
      "execution_count": null,
      "id": "34c50e8b",
      "metadata": {
        "id": "34c50e8b"
      },
      "outputs": [],
      "source": [
        "#sentiment, mood classification and then show classification report"
      ]
    },
    {
      "cell_type": "code",
      "execution_count": null,
      "id": "46f0f3c3",
      "metadata": {
        "id": "46f0f3c3"
      },
      "outputs": [],
      "source": [
        "#and prediction report for some new (random)text"
      ]
    },
    {
      "cell_type": "code",
      "execution_count": null,
      "id": "c5423f40",
      "metadata": {
        "id": "c5423f40"
      },
      "outputs": [],
      "source": [
        "#*******************************************************************"
      ]
    },
    {
      "cell_type": "code",
      "execution_count": null,
      "id": "ac5f7ae9",
      "metadata": {
        "id": "ac5f7ae9"
      },
      "outputs": [],
      "source": [
        "import nltk"
      ]
    },
    {
      "cell_type": "code",
      "execution_count": null,
      "id": "0fed011d",
      "metadata": {
        "id": "0fed011d"
      },
      "outputs": [],
      "source": [
        "import pandas as pd"
      ]
    },
    {
      "cell_type": "code",
      "execution_count": null,
      "id": "cd9e3530",
      "metadata": {
        "id": "cd9e3530"
      },
      "outputs": [],
      "source": [
        "import warnings"
      ]
    },
    {
      "cell_type": "code",
      "execution_count": null,
      "id": "034c41bd",
      "metadata": {
        "id": "034c41bd"
      },
      "outputs": [],
      "source": [
        "from sklearn.model_selection import train_test_split"
      ]
    },
    {
      "cell_type": "code",
      "execution_count": null,
      "id": "87935e55",
      "metadata": {
        "id": "87935e55"
      },
      "outputs": [],
      "source": [
        "from sklearn.feature_extraction.text import CountVectorizer"
      ]
    },
    {
      "cell_type": "code",
      "execution_count": null,
      "id": "1c901e77",
      "metadata": {
        "id": "1c901e77"
      },
      "outputs": [],
      "source": [
        "from sklearn.feature_extraction.text import TfidfTransformer"
      ]
    },
    {
      "cell_type": "code",
      "execution_count": null,
      "id": "f4d26d45",
      "metadata": {
        "id": "f4d26d45"
      },
      "outputs": [],
      "source": [
        "from sklearn.naive_bayes import MultinomialNB"
      ]
    },
    {
      "cell_type": "code",
      "execution_count": null,
      "id": "e020f4d4",
      "metadata": {
        "id": "e020f4d4"
      },
      "outputs": [],
      "source": [
        "from sklearn.metrics import accuracy_score"
      ]
    },
    {
      "cell_type": "code",
      "execution_count": null,
      "id": "4341b888",
      "metadata": {
        "id": "4341b888"
      },
      "outputs": [],
      "source": [
        "from sklearn.metrics import confusion_matrix"
      ]
    },
    {
      "cell_type": "code",
      "execution_count": null,
      "id": "32e5a230",
      "metadata": {
        "id": "32e5a230"
      },
      "outputs": [],
      "source": [
        "from sklearn.metrics import classification_report"
      ]
    },
    {
      "cell_type": "code",
      "execution_count": null,
      "id": "27fb6021",
      "metadata": {
        "id": "27fb6021"
      },
      "outputs": [],
      "source": [
        "from sklearn.feature_extraction.text import TfidfVectorizer"
      ]
    },
    {
      "cell_type": "code",
      "execution_count": null,
      "id": "b0b48d63",
      "metadata": {
        "id": "b0b48d63"
      },
      "outputs": [],
      "source": [
        "from sklearn.linear_model import LogisticRegression"
      ]
    },
    {
      "cell_type": "code",
      "execution_count": null,
      "id": "a0cbcb0c",
      "metadata": {
        "id": "a0cbcb0c"
      },
      "outputs": [],
      "source": [
        "# ignore the warnings"
      ]
    },
    {
      "cell_type": "code",
      "execution_count": null,
      "id": "e902c49b",
      "metadata": {
        "id": "e902c49b"
      },
      "outputs": [],
      "source": [
        "warnings.filterwarnings(\"ignore\")"
      ]
    },
    {
      "cell_type": "code",
      "execution_count": null,
      "id": "143887d2",
      "metadata": {
        "id": "143887d2"
      },
      "outputs": [],
      "source": [
        "#reading dataset"
      ]
    },
    {
      "cell_type": "code",
      "execution_count": null,
      "id": "5e81479c",
      "metadata": {
        "id": "5e81479c"
      },
      "outputs": [],
      "source": [
        "conversation = pd.read_csv('myannobeha2.csv',encoding = \"ISO-8859-1\")"
      ]
    },
    {
      "cell_type": "code",
      "execution_count": null,
      "id": "e15d0ee1",
      "metadata": {
        "id": "e15d0ee1"
      },
      "outputs": [],
      "source": [
        "print(\"Dataset format\")"
      ]
    },
    {
      "cell_type": "code",
      "execution_count": null,
      "id": "0dc2ab95",
      "metadata": {
        "id": "0dc2ab95"
      },
      "outputs": [],
      "source": [
        "print(conversation.head(3))"
      ]
    },
    {
      "cell_type": "code",
      "execution_count": null,
      "id": "b1d395ff",
      "metadata": {
        "id": "b1d395ff"
      },
      "outputs": [],
      "source": [
        "col = ['Text','Emotion','Sentiment','Mood']"
      ]
    },
    {
      "cell_type": "markdown",
      "source": [
        "#Dataset Format"
      ],
      "metadata": {
        "id": "AI819dmCzZ3h"
      },
      "id": "AI819dmCzZ3h"
    },
    {
      "cell_type": "code",
      "source": [
        "Dataset format\n",
        "                                                Text    Lexicon  ... Sentiment Mood\n",
        "0  doubt reward solving issue 4430 including over...  doubt(eu)  ...  Negative  Bad\n",
        "1                               rat baje hogi ghosda    rat(eu)  ...  Negative  Bad\n",
        "2  imran khan used youth proceeded making every p...   khan(ru)  ...  Negative  Bad\n",
        "\n",
        "[3 rows x 5 columns]"
      ],
      "metadata": {
        "id": "FWqq-pTKzeeC"
      },
      "id": "FWqq-pTKzeeC",
      "execution_count": null,
      "outputs": []
    },
    {
      "cell_type": "code",
      "execution_count": null,
      "id": "1ef07dec",
      "metadata": {
        "id": "1ef07dec"
      },
      "outputs": [],
      "source": [
        "conversation= conversation[col]"
      ]
    },
    {
      "cell_type": "code",
      "execution_count": null,
      "id": "0859a5f8",
      "metadata": {
        "id": "0859a5f8"
      },
      "outputs": [],
      "source": [
        "#setting up columns for processing"
      ]
    },
    {
      "cell_type": "code",
      "execution_count": null,
      "id": "6bb6d6cf",
      "metadata": {
        "id": "6bb6d6cf"
      },
      "outputs": [],
      "source": [
        "conversation.columns = ['Text','Emotion','Sentiment','Mood']"
      ]
    },
    {
      "cell_type": "code",
      "execution_count": null,
      "id": "27bbd654",
      "metadata": {
        "id": "27bbd654"
      },
      "outputs": [],
      "source": [
        "#showing graphical representation of data"
      ]
    },
    {
      "cell_type": "code",
      "execution_count": null,
      "id": "2f632e2f",
      "metadata": {
        "id": "2f632e2f"
      },
      "outputs": [],
      "source": [
        "print(\"Data Visualization\")"
      ]
    },
    {
      "cell_type": "code",
      "execution_count": null,
      "id": "4fe61693",
      "metadata": {
        "id": "4fe61693"
      },
      "outputs": [],
      "source": [
        "import matplotlib.pyplot as plt"
      ]
    },
    {
      "cell_type": "code",
      "execution_count": null,
      "id": "d6c86f14",
      "metadata": {
        "id": "d6c86f14"
      },
      "outputs": [],
      "source": [
        "fig = plt.figure(figsize=(8,6))"
      ]
    },
    {
      "cell_type": "code",
      "execution_count": null,
      "id": "1712f6c3",
      "metadata": {
        "id": "1712f6c3"
      },
      "outputs": [],
      "source": [
        "conversation.groupby('Emotion').Text.count().plot.pie(ylim=0,autopct=\"%1.1f%%\")"
      ]
    },
    {
      "cell_type": "code",
      "execution_count": null,
      "id": "e4ac9207",
      "metadata": {
        "id": "e4ac9207"
      },
      "outputs": [],
      "source": [
        "plt.show()"
      ]
    },
    {
      "cell_type": "code",
      "execution_count": null,
      "id": "23c23c73",
      "metadata": {
        "id": "23c23c73"
      },
      "outputs": [],
      "source": [
        "conversation.groupby('Sentiment').Text.count().plot.pie(ylim=0,autopct=\"%1.1f%%\")"
      ]
    },
    {
      "cell_type": "code",
      "execution_count": null,
      "id": "fb66f83c",
      "metadata": {
        "id": "fb66f83c"
      },
      "outputs": [],
      "source": [
        "plt.show()"
      ]
    },
    {
      "cell_type": "code",
      "execution_count": null,
      "id": "cf0dab57",
      "metadata": {
        "id": "cf0dab57"
      },
      "outputs": [],
      "source": [
        "conversation.groupby('Mood').Text.count().plot.pie(ylim=0,autopct=\"%1.1f%%\")"
      ]
    },
    {
      "cell_type": "code",
      "execution_count": null,
      "id": "3836106d",
      "metadata": {
        "id": "3836106d"
      },
      "outputs": [],
      "source": [
        "plt.show()"
      ]
    },
    {
      "cell_type": "code",
      "execution_count": null,
      "id": "69200f18",
      "metadata": {
        "id": "69200f18"
      },
      "outputs": [],
      "source": [
        "#method to display classification/prediction report"
      ]
    },
    {
      "cell_type": "code",
      "execution_count": null,
      "id": "d3e33303",
      "metadata": {
        "id": "d3e33303"
      },
      "outputs": [],
      "source": [
        "def classificationreport(clf,X_train,X_test,y_train,y_test,X_train_tfidf,T):"
      ]
    },
    {
      "cell_type": "code",
      "execution_count": null,
      "id": "7b62bdee",
      "metadata": {
        "id": "7b62bdee"
      },
      "outputs": [],
      "source": [
        "    print(\"Classification of :\" + T + \"\")"
      ]
    },
    {
      "cell_type": "code",
      "execution_count": null,
      "id": "ca70be00",
      "metadata": {
        "id": "ca70be00"
      },
      "outputs": [],
      "source": [
        "    print(\"predicted result for 'main khan k khan se shadi karon gi.'\")"
      ]
    },
    {
      "cell_type": "code",
      "execution_count": null,
      "id": "308d7e81",
      "metadata": {
        "id": "308d7e81"
      },
      "outputs": [],
      "source": [
        "    print(\"Predicted \"+T+\":\")"
      ]
    },
    {
      "cell_type": "code",
      "execution_count": null,
      "id": "011da800",
      "metadata": {
        "id": "011da800"
      },
      "outputs": [],
      "source": [
        "    print(clf.predict(count_vect.transform([\"main khan k khan se shadi karon gi.\"])))"
      ]
    },
    {
      "cell_type": "code",
      "execution_count": null,
      "id": "5a3e7148",
      "metadata": {
        "id": "5a3e7148"
      },
      "outputs": [],
      "source": [
        "    y_pred=clf.predict(count_vect.transform(X_test))"
      ]
    },
    {
      "cell_type": "code",
      "execution_count": null,
      "id": "f63e0980",
      "metadata": {
        "id": "f63e0980"
      },
      "outputs": [],
      "source": [
        "    #print(\"y-pred Emotion\",y_pred)"
      ]
    },
    {
      "cell_type": "code",
      "execution_count": null,
      "id": "e4f43b40",
      "metadata": {
        "id": "e4f43b40"
      },
      "outputs": [],
      "source": [
        "    print(\"Accuracy of the classifier :\",clf.score(X_train_tfidf, y_train))"
      ]
    },
    {
      "cell_type": "code",
      "execution_count": null,
      "id": "f27e41d0",
      "metadata": {
        "id": "f27e41d0"
      },
      "outputs": [],
      "source": [
        "    print(\"Accuracy score for test data :\",accuracy_score(y_pred,y_test))"
      ]
    },
    {
      "cell_type": "code",
      "execution_count": null,
      "id": "8c707f8c",
      "metadata": {
        "id": "8c707f8c"
      },
      "outputs": [],
      "source": [
        "    y_true = y_test"
      ]
    },
    {
      "cell_type": "code",
      "execution_count": null,
      "id": "8052cd49",
      "metadata": {
        "id": "8052cd49"
      },
      "outputs": [],
      "source": [
        "    print (classification_report(y_true, y_pred))"
      ]
    },
    {
      "cell_type": "code",
      "execution_count": null,
      "id": "c384d579",
      "metadata": {
        "id": "c384d579"
      },
      "outputs": [],
      "source": [
        "#Splitting the dataset into training data and test data"
      ]
    },
    {
      "cell_type": "code",
      "execution_count": null,
      "id": "ac0b5ac5",
      "metadata": {
        "id": "ac0b5ac5"
      },
      "outputs": [],
      "source": [
        "X_train, X_test, y_train, y_test = train_test_split(conversation['Text'], conversation['Emotion'],test_size=0.4, random_state = 0)"
      ]
    },
    {
      "cell_type": "code",
      "execution_count": null,
      "id": "c9f15cbd",
      "metadata": {
        "id": "c9f15cbd"
      },
      "outputs": [],
      "source": [
        "count_vect = CountVectorizer()"
      ]
    },
    {
      "cell_type": "code",
      "execution_count": null,
      "id": "fa8b7fba",
      "metadata": {
        "id": "fa8b7fba"
      },
      "outputs": [],
      "source": [
        "#Frequency counts"
      ]
    },
    {
      "cell_type": "code",
      "execution_count": null,
      "id": "d2ca41e5",
      "metadata": {
        "id": "d2ca41e5"
      },
      "outputs": [],
      "source": [
        "X_train_counts = count_vect.fit_transform(X_train)"
      ]
    },
    {
      "cell_type": "code",
      "execution_count": null,
      "id": "3805829b",
      "metadata": {
        "id": "3805829b"
      },
      "outputs": [],
      "source": [
        "tfidf_transformer = TfidfTransformer()"
      ]
    },
    {
      "cell_type": "code",
      "execution_count": null,
      "id": "d41bcbe7",
      "metadata": {
        "id": "d41bcbe7"
      },
      "outputs": [],
      "source": [
        "#TF-IDF vector"
      ]
    },
    {
      "cell_type": "code",
      "execution_count": null,
      "id": "d0b67097",
      "metadata": {
        "id": "d0b67097"
      },
      "outputs": [],
      "source": [
        "X_train_tfidf = tfidf_transformer.fit_transform(X_train_counts)"
      ]
    },
    {
      "cell_type": "code",
      "execution_count": null,
      "id": "48aa8e8b",
      "metadata": {
        "id": "48aa8e8b"
      },
      "outputs": [],
      "source": [
        "#Prep[aring data for SEntiments"
      ]
    },
    {
      "cell_type": "code",
      "execution_count": null,
      "id": "62558eab",
      "metadata": {
        "id": "62558eab"
      },
      "outputs": [],
      "source": [
        "Xs_train, Xs_test, ys_train, ys_test = train_test_split(conversation['Text'], conversation['Sentiment'],test_size=0.4, random_state = 0)"
      ]
    },
    {
      "cell_type": "code",
      "execution_count": null,
      "id": "c904070e",
      "metadata": {
        "id": "c904070e"
      },
      "outputs": [],
      "source": [
        "Xs_train_counts = count_vect.fit_transform(Xs_train)"
      ]
    },
    {
      "cell_type": "code",
      "execution_count": null,
      "id": "5eeedc98",
      "metadata": {
        "id": "5eeedc98"
      },
      "outputs": [],
      "source": [
        "Xs_train_tfidf = tfidf_transformer.fit_transform(Xs_train_counts)"
      ]
    },
    {
      "cell_type": "code",
      "execution_count": null,
      "id": "c4996022",
      "metadata": {
        "id": "c4996022"
      },
      "outputs": [],
      "source": [
        "#Preparing data for Mood"
      ]
    },
    {
      "cell_type": "code",
      "execution_count": null,
      "id": "6dad5fd3",
      "metadata": {
        "id": "6dad5fd3"
      },
      "outputs": [],
      "source": [
        "Xm_train, Xm_test, ym_train, ym_test = train_test_split(conversation['Text'], conversation['Mood'],test_size=0.4, random_state = 0)"
      ]
    },
    {
      "cell_type": "code",
      "execution_count": null,
      "id": "32d843eb",
      "metadata": {
        "id": "32d843eb"
      },
      "outputs": [],
      "source": [
        "Xm_train_counts = count_vect.fit_transform(Xm_train)"
      ]
    },
    {
      "cell_type": "code",
      "execution_count": null,
      "id": "b88f8af9",
      "metadata": {
        "id": "b88f8af9"
      },
      "outputs": [],
      "source": [
        "Xm_train_tfidf = tfidf_transformer.fit_transform(Xm_train_counts)"
      ]
    },
    {
      "cell_type": "code",
      "execution_count": null,
      "id": "bfd94810",
      "metadata": {
        "id": "bfd94810"
      },
      "outputs": [],
      "source": [
        "#This function returns MNB classifier(Multinomial Naiv Bayes) handel"
      ]
    },
    {
      "cell_type": "code",
      "execution_count": null,
      "id": "e4a2746b",
      "metadata": {
        "id": "e4a2746b"
      },
      "outputs": [],
      "source": [
        "def ClassiMNB(X_train_tfidf, y_train):"
      ]
    },
    {
      "cell_type": "code",
      "execution_count": null,
      "id": "de4918d8",
      "metadata": {
        "id": "de4918d8"
      },
      "outputs": [],
      "source": [
        "    clf = MultinomialNB().fit(X_train_tfidf, y_train)"
      ]
    },
    {
      "cell_type": "code",
      "execution_count": null,
      "id": "1fedeff6",
      "metadata": {
        "id": "1fedeff6"
      },
      "outputs": [],
      "source": [
        "    return clf"
      ]
    },
    {
      "cell_type": "code",
      "execution_count": null,
      "id": "3424d145",
      "metadata": {
        "id": "3424d145"
      },
      "outputs": [],
      "source": [
        "#This function returns LR classifier(Logictic Regression) handel"
      ]
    },
    {
      "cell_type": "code",
      "execution_count": null,
      "id": "c9b0666c",
      "metadata": {
        "id": "c9b0666c"
      },
      "outputs": [],
      "source": [
        "def ClassiLR(X_train_tfidf, y_train):"
      ]
    },
    {
      "cell_type": "code",
      "execution_count": null,
      "id": "7249ab43",
      "metadata": {
        "id": "7249ab43"
      },
      "outputs": [],
      "source": [
        "     clf = LogisticRegression(random_state=0).fit(X_train_tfidf, y_train)"
      ]
    },
    {
      "cell_type": "code",
      "execution_count": null,
      "id": "067f56d0",
      "metadata": {
        "id": "067f56d0"
      },
      "outputs": [],
      "source": [
        "     return clf"
      ]
    },
    {
      "cell_type": "code",
      "execution_count": null,
      "id": "fcf061d0",
      "metadata": {
        "id": "fcf061d0"
      },
      "outputs": [],
      "source": [
        "#This function returns SVMclassifier(Super Vector Machine) handel"
      ]
    },
    {
      "cell_type": "code",
      "execution_count": null,
      "id": "65a1ceaf",
      "metadata": {
        "id": "65a1ceaf"
      },
      "outputs": [],
      "source": [
        "def ClassiSVM(X_train_tfidf, y_train):"
      ]
    },
    {
      "cell_type": "code",
      "execution_count": null,
      "id": "7b194288",
      "metadata": {
        "id": "7b194288"
      },
      "outputs": [],
      "source": [
        "     clf = SVC(C=1.0, kernel='linear', degree=3, gamma='auto').fit(X_train_tfidf, y_train)"
      ]
    },
    {
      "cell_type": "code",
      "execution_count": null,
      "id": "21b06208",
      "metadata": {
        "id": "21b06208"
      },
      "outputs": [],
      "source": [
        "     return clf"
      ]
    },
    {
      "cell_type": "code",
      "execution_count": null,
      "id": "52e5be7d",
      "metadata": {
        "id": "52e5be7d"
      },
      "outputs": [],
      "source": [
        "#**********************************************************************************************"
      ]
    },
    {
      "cell_type": "code",
      "execution_count": null,
      "id": "4959995a",
      "metadata": {
        "id": "4959995a"
      },
      "outputs": [],
      "source": [
        "#Calling the functions"
      ]
    },
    {
      "cell_type": "code",
      "execution_count": null,
      "id": "260c5840",
      "metadata": {
        "id": "260c5840"
      },
      "outputs": [],
      "source": [
        "print(\"************************MNB************************************\")"
      ]
    },
    {
      "cell_type": "code",
      "execution_count": null,
      "id": "c011d590",
      "metadata": {
        "id": "c011d590"
      },
      "outputs": [],
      "source": [
        "clfM=ClassiMNB(Xm_train_tfidf, ym_train)"
      ]
    },
    {
      "cell_type": "code",
      "execution_count": null,
      "id": "f17f611c",
      "metadata": {
        "id": "f17f611c"
      },
      "outputs": [],
      "source": [
        "clfS=ClassiMNB(Xs_train_tfidf, ys_train)"
      ]
    },
    {
      "cell_type": "code",
      "execution_count": null,
      "id": "14175b5a",
      "metadata": {
        "id": "14175b5a"
      },
      "outputs": [],
      "source": [
        "clfE=ClassiMNB(X_train_tfidf, y_train)"
      ]
    },
    {
      "cell_type": "code",
      "execution_count": null,
      "id": "7f111910",
      "metadata": {
        "id": "7f111910"
      },
      "outputs": [],
      "source": [
        "classificationreport(clfE,X_train,X_test,y_train,y_test,X_train_tfidf,\"Emotions\")"
      ]
    },
    {
      "cell_type": "code",
      "execution_count": null,
      "id": "986f97c6",
      "metadata": {
        "id": "986f97c6"
      },
      "outputs": [],
      "source": [
        "classificationreport(clfS,Xs_train,Xs_test,ys_train,ys_test,Xs_train_tfidf,\"Sentiments\")"
      ]
    },
    {
      "cell_type": "code",
      "execution_count": null,
      "id": "f16086df",
      "metadata": {
        "id": "f16086df"
      },
      "outputs": [],
      "source": [
        "classificationreport(clfM,Xm_train,Xm_test,ym_train,ym_test,Xm_train_tfidf,\"Mood\")"
      ]
    },
    {
      "cell_type": "code",
      "execution_count": null,
      "id": "48edc088",
      "metadata": {
        "id": "48edc088"
      },
      "outputs": [],
      "source": []
    },
    {
      "cell_type": "code",
      "execution_count": null,
      "id": "2b050516",
      "metadata": {
        "id": "2b050516"
      },
      "outputs": [],
      "source": [
        "#**************************************************************************************************"
      ]
    },
    {
      "cell_type": "code",
      "execution_count": null,
      "id": "6f58727f",
      "metadata": {
        "id": "6f58727f"
      },
      "outputs": [],
      "source": [
        "#Calling the functions"
      ]
    },
    {
      "cell_type": "code",
      "execution_count": null,
      "id": "fd14f91d",
      "metadata": {
        "id": "fd14f91d"
      },
      "outputs": [],
      "source": [
        "print(\"*********************LR*********************************************\")"
      ]
    },
    {
      "cell_type": "code",
      "execution_count": null,
      "id": "c961c9f7",
      "metadata": {
        "id": "c961c9f7"
      },
      "outputs": [],
      "source": [
        "LRclfE = ClassiLR(X_train_tfidf, y_train)"
      ]
    },
    {
      "cell_type": "code",
      "execution_count": null,
      "id": "854ea5ed",
      "metadata": {
        "id": "854ea5ed"
      },
      "outputs": [],
      "source": [
        "LRclfS = ClassiLR(Xs_train_tfidf, ys_train)"
      ]
    },
    {
      "cell_type": "code",
      "execution_count": null,
      "id": "d3250282",
      "metadata": {
        "id": "d3250282"
      },
      "outputs": [],
      "source": [
        "LRclfM = ClassiLR(Xm_train_tfidf, ym_train)"
      ]
    },
    {
      "cell_type": "code",
      "execution_count": null,
      "id": "ae10264a",
      "metadata": {
        "id": "ae10264a"
      },
      "outputs": [],
      "source": [
        "classificationreport(LRclfE,X_train,X_test,y_train,y_test,X_train_tfidf,\"Emotions\")"
      ]
    },
    {
      "cell_type": "code",
      "execution_count": null,
      "id": "0b8c127a",
      "metadata": {
        "id": "0b8c127a"
      },
      "outputs": [],
      "source": [
        "classificationreport(clfS,Xs_train,Xs_test,ys_train,ys_test,Xs_train_tfidf,\"Sentiments\")"
      ]
    },
    {
      "cell_type": "code",
      "execution_count": null,
      "id": "2cc1bb1a",
      "metadata": {
        "id": "2cc1bb1a"
      },
      "outputs": [],
      "source": [
        "classificationreport(clfM,Xm_train,Xm_test,ym_train,ym_test,Xm_train_tfidf,\"Mood\")"
      ]
    },
    {
      "cell_type": "code",
      "execution_count": null,
      "id": "c987edb2",
      "metadata": {
        "id": "c987edb2"
      },
      "outputs": [],
      "source": []
    },
    {
      "cell_type": "code",
      "execution_count": null,
      "id": "b3792015",
      "metadata": {
        "id": "b3792015"
      },
      "outputs": [],
      "source": [
        "#Calling the functionsf"
      ]
    },
    {
      "cell_type": "code",
      "execution_count": null,
      "id": "b44ed068",
      "metadata": {
        "id": "b44ed068"
      },
      "outputs": [],
      "source": [
        "print(\"***********************SVM***************************************\")"
      ]
    },
    {
      "cell_type": "code",
      "execution_count": null,
      "id": "dbd34d48",
      "metadata": {
        "id": "dbd34d48"
      },
      "outputs": [],
      "source": [
        "from sklearn.svm import SVC"
      ]
    },
    {
      "cell_type": "code",
      "execution_count": null,
      "id": "1c788b87",
      "metadata": {
        "id": "1c788b87"
      },
      "outputs": [],
      "source": [
        "print(\"SVM for Emotion classification\")"
      ]
    },
    {
      "cell_type": "code",
      "execution_count": null,
      "id": "391ec364",
      "metadata": {
        "id": "391ec364"
      },
      "outputs": [],
      "source": [
        "SVMclfE = ClassiSVM(X_train_tfidf, y_train)"
      ]
    },
    {
      "cell_type": "code",
      "execution_count": null,
      "id": "ba526ba3",
      "metadata": {
        "id": "ba526ba3"
      },
      "outputs": [],
      "source": [
        "SVMclfS = ClassiSVM(Xs_train_tfidf, ys_train)"
      ]
    },
    {
      "cell_type": "code",
      "execution_count": null,
      "id": "85434b9e",
      "metadata": {
        "id": "85434b9e"
      },
      "outputs": [],
      "source": [
        "SVMclfM = ClassiSVM(Xm_train_tfidf, ym_train)"
      ]
    },
    {
      "cell_type": "code",
      "execution_count": null,
      "id": "f9fddaa2",
      "metadata": {
        "id": "f9fddaa2"
      },
      "outputs": [],
      "source": [
        "classificationreport(SVMclfE,X_train,X_test,y_train,y_test,X_train_tfidf,\"Emotions\")"
      ]
    },
    {
      "cell_type": "code",
      "execution_count": null,
      "id": "3fc8679a",
      "metadata": {
        "id": "3fc8679a"
      },
      "outputs": [],
      "source": [
        "classificationreport(SVMclfS,Xs_train,Xs_test,ys_train,ys_test,Xs_train_tfidf,\"Emotions\")"
      ]
    },
    {
      "cell_type": "code",
      "execution_count": null,
      "id": "971cc730",
      "metadata": {
        "id": "971cc730"
      },
      "outputs": [],
      "source": [
        "classificationreport(SVMclfM,Xm_train,Xm_test,ym_train,ym_test,Xm_train_tfidf,\"Emotions\")"
      ]
    },
    {
      "cell_type": "markdown",
      "source": [
        "#Classification Report and Prediction of new text for MNB, LR, and SVM"
      ],
      "metadata": {
        "id": "zDT9lrEVzp7Z"
      },
      "id": "zDT9lrEVzp7Z"
    },
    {
      "cell_type": "code",
      "source": [
        "************************MNB************************************\n",
        "Classification of :Emotions\n",
        "predicted result for 'main khan k khan se shadi karon gi.'\n",
        "Predicted Emotions:\n",
        "['Fear']\n",
        "Accuracy of the classifier : 0.793205317577548\n",
        "Accuracy score for test data : 0.6843853820598007\n",
        "              precision    recall  f1-score   support\n",
        "\n",
        "       Anger       1.00      0.09      0.17        33\n",
        "Anticipation       0.79      0.86      0.82       209\n",
        "     Disgust       0.00      0.00      0.00        16\n",
        "        Fear       0.62      0.94      0.74       300\n",
        "    Interest       0.00      0.00      0.00         5\n",
        "         Joy       0.00      0.00      0.00        15\n",
        "     Neutral       0.71      0.58      0.63       253\n",
        "     Sadness       0.00      0.00      0.00         6\n",
        "       Trust       0.90      0.14      0.24        66\n",
        "\n",
        "    accuracy                           0.68       903\n",
        "   macro avg       0.45      0.29      0.29       903\n",
        "weighted avg       0.69      0.68      0.64       903\n",
        "\n",
        "Classification of :Sentiments\n",
        "predicted result for 'main khan k khan se shadi karon gi.'\n",
        "Predicted Sentiments:\n",
        "['Negative']\n",
        "Accuracy of the classifier : 0.8788774002954209\n",
        "Accuracy score for test data : 0.7198228128460686\n",
        "              precision    recall  f1-score   support\n",
        "\n",
        "    Negative       0.66      0.90      0.76       363\n",
        "     Neutral       0.73      0.41      0.52       217\n",
        "    Positive       0.83      0.72      0.77       323\n",
        "\n",
        "    accuracy                           0.72       903\n",
        "   macro avg       0.74      0.68      0.68       903\n",
        "weighted avg       0.74      0.72      0.71       903\n",
        "\n",
        "Classification of :Mood\n",
        "predicted result for 'main khan k khan se shadi karon gi.'\n",
        "Predicted Mood:\n",
        "['Bad']\n",
        "Accuracy of the classifier : 0.8914327917282127\n",
        "Accuracy score for test data : 0.7231450719822813\n",
        "              precision    recall  f1-score   support\n",
        "\n",
        "         Bad       0.65      0.90      0.76       355\n",
        "        Good       0.84      0.74      0.79       295\n",
        "    Moderate       0.75      0.46      0.57       253\n",
        "\n",
        "    accuracy                           0.72       903\n",
        "   macro avg       0.75      0.70      0.70       903\n",
        "weighted avg       0.74      0.72      0.71       903\n",
        "\n",
        "*********************LR*********************************************\n",
        "Classification of :Emotions\n",
        "predicted result for 'main khan k khan se shadi karon gi.'\n",
        "Predicted Emotions:\n",
        "['Fear']\n",
        "Accuracy of the classifier : 0.844903988183161\n",
        "Accuracy score for test data : 0.770764119601329\n",
        "              precision    recall  f1-score   support\n",
        "\n",
        "       Anger       0.73      0.24      0.36        33\n",
        "Anticipation       0.80      0.88      0.84       209\n",
        "     Disgust       0.67      0.38      0.48        16\n",
        "        Fear       0.74      0.94      0.83       300\n",
        "    Interest       0.00      0.00      0.00         5\n",
        "         Joy       1.00      0.20      0.33        15\n",
        "     Neutral       0.78      0.74      0.76       253\n",
        "     Sadness       0.00      0.00      0.00         6\n",
        "       Trust       0.80      0.36      0.50        66\n",
        "\n",
        "    accuracy                           0.77       903\n",
        "   macro avg       0.61      0.42      0.46       903\n",
        "weighted avg       0.77      0.77      0.75       903\n",
        "\n",
        "Classification of :Sentiments\n",
        "predicted result for 'main khan k khan se shadi karon gi.'\n",
        "Predicted Sentiments:\n",
        "['Negative']\n",
        "Accuracy of the classifier : 0.8788774002954209\n",
        "Accuracy score for test data : 0.7198228128460686\n",
        "              precision    recall  f1-score   support\n",
        "\n",
        "    Negative       0.66      0.90      0.76       363\n",
        "     Neutral       0.73      0.41      0.52       217\n",
        "    Positive       0.83      0.72      0.77       323\n",
        "\n",
        "    accuracy                           0.72       903\n",
        "   macro avg       0.74      0.68      0.68       903\n",
        "weighted avg       0.74      0.72      0.71       903\n",
        "\n",
        "Classification of :Mood\n",
        "predicted result for 'main khan k khan se shadi karon gi.'\n",
        "Predicted Mood:\n",
        "['Bad']\n",
        "Accuracy of the classifier : 0.8914327917282127\n",
        "Accuracy score for test data : 0.7231450719822813\n",
        "              precision    recall  f1-score   support\n",
        "\n",
        "         Bad       0.65      0.90      0.76       355\n",
        "        Good       0.84      0.74      0.79       295\n",
        "    Moderate       0.75      0.46      0.57       253\n",
        "\n",
        "    accuracy                           0.72       903\n",
        "   macro avg       0.75      0.70      0.70       903\n",
        "weighted avg       0.74      0.72      0.71       903\n",
        "\n",
        "***********************SVM***************************************\n",
        "SVM for Emotion classification\n",
        "Classification of :Emotions\n",
        "predicted result for 'main khan k khan se shadi karon gi.'\n",
        "Predicted Emotions:\n",
        "['Fear']\n",
        "Accuracy of the classifier : 0.9453471196454948\n",
        "Accuracy score for test data : 0.769656699889258\n",
        "              precision    recall  f1-score   support\n",
        "\n",
        "       Anger       0.47      0.42      0.44        33\n",
        "Anticipation       0.82      0.89      0.85       209\n",
        "     Disgust       0.47      0.56      0.51        16\n",
        "        Fear       0.80      0.92      0.86       300\n",
        "    Interest       0.50      0.40      0.44         5\n",
        "         Joy       0.60      0.20      0.30        15\n",
        "     Neutral       0.77      0.70      0.73       253\n",
        "     Sadness       0.00      0.00      0.00         6\n",
        "       Trust       0.67      0.39      0.50        66\n",
        "\n",
        "    accuracy                           0.77       903\n",
        "   macro avg       0.57      0.50      0.52       903\n",
        "weighted avg       0.76      0.77      0.76       903\n",
        "\n",
        "Classification of :Emotions\n",
        "predicted result for 'main khan k khan se shadi karon gi.'\n",
        "Predicted Emotions:\n",
        "['Negative']\n",
        "Accuracy of the classifier : 0.983751846381093\n",
        "Accuracy score for test data : 0.8084163898117387\n",
        "              precision    recall  f1-score   support\n",
        "\n",
        "    Negative       0.80      0.88      0.84       363\n",
        "     Neutral       0.79      0.65      0.71       217\n",
        "    Positive       0.83      0.83      0.83       323\n",
        "\n",
        "    accuracy                           0.81       903\n",
        "   macro avg       0.81      0.79      0.79       903\n",
        "weighted avg       0.81      0.81      0.81       903\n",
        "\n",
        "Classification of :Emotions\n",
        "predicted result for 'main khan k khan se shadi karon gi.'\n",
        "Predicted Emotions:\n",
        "['Bad']\n",
        "Accuracy of the classifier : 0.9807976366322009\n",
        "Accuracy score for test data : 0.8106312292358804\n",
        "              precision    recall  f1-score   support\n",
        "\n",
        "         Bad       0.80      0.88      0.84       355\n",
        "        Good       0.84      0.83      0.83       295\n",
        "    Moderate       0.79      0.70      0.74       253\n",
        "\n",
        "    accuracy                           0.81       903\n",
        "   macro avg       0.81      0.80      0.80       903\n",
        "weighted avg       0.81      0.81      0.81       903\n",
        "\n"
      ],
      "metadata": {
        "id": "Nfww6MTxz5NB"
      },
      "id": "Nfww6MTxz5NB",
      "execution_count": null,
      "outputs": []
    }
  ],
  "metadata": {
    "colab": {
      "provenance": []
    }
  },
  "nbformat": 4,
  "nbformat_minor": 5
}