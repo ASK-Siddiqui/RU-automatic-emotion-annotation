{
  "cells": [
    {
      "cell_type": "code",
      "execution_count": null,
      "id": "92d483b8",
      "metadata": {
        "id": "92d483b8"
      },
      "outputs": [],
      "source": [
        "#**********************Description*********************************"
      ]
    },
    {
      "cell_type": "code",
      "execution_count": null,
      "id": "d8118526",
      "metadata": {
        "id": "d8118526"
      },
      "outputs": [],
      "source": [
        "# This code sends input CSV (incsv) to clean theraw text and then"
      ]
    },
    {
      "cell_type": "code",
      "execution_count": null,
      "id": "26dddd00",
      "metadata": {
        "id": "26dddd00"
      },
      "outputs": [],
      "source": [
        "# display the contents of annotated output CSV file (outcsv)"
      ]
    },
    {
      "cell_type": "code",
      "execution_count": null,
      "id": "35592a07",
      "metadata": {
        "id": "35592a07"
      },
      "outputs": [],
      "source": [
        "#*******************************************************************"
      ]
    },
    {
      "cell_type": "markdown",
      "source": [],
      "metadata": {
        "id": "GjSFRT7fvx-5"
      },
      "id": "GjSFRT7fvx-5"
    },
    {
      "cell_type": "code",
      "execution_count": null,
      "id": "771413c0",
      "metadata": {
        "id": "771413c0"
      },
      "outputs": [],
      "source": [
        "import cleanfile as cf #cleaning Module"
      ]
    },
    {
      "cell_type": "code",
      "execution_count": null,
      "id": "f89a584b",
      "metadata": {
        "id": "f89a584b"
      },
      "outputs": [],
      "source": [
        "import pandas as pd    # Python library to get data frames"
      ]
    },
    {
      "cell_type": "code",
      "execution_count": null,
      "id": "c48523c5",
      "metadata": {
        "id": "c48523c5"
      },
      "outputs": [],
      "source": [
        "import labeledlexp4 as ll #annotation module"
      ]
    },
    {
      "cell_type": "code",
      "execution_count": null,
      "id": "d5159273",
      "metadata": {
        "id": "d5159273"
      },
      "outputs": [],
      "source": []
    },
    {
      "cell_type": "markdown",
      "source": [
        "#Phase1:\n",
        "Data will be cleaned first by using \"cleanfile\" and then annotated by using module \"labeledlexp4\"."
      ],
      "metadata": {
        "id": "BpQsnqcxiAoR"
      },
      "id": "BpQsnqcxiAoR"
    },
    {
      "cell_type": "code",
      "execution_count": null,
      "id": "bab3da38",
      "metadata": {
        "id": "bab3da38"
      },
      "outputs": [],
      "source": [
        "#Phase 1"
      ]
    },
    {
      "cell_type": "code",
      "execution_count": null,
      "id": "677b38e1",
      "metadata": {
        "id": "677b38e1"
      },
      "outputs": [],
      "source": [
        "incsv='paper4RU.csv'"
      ]
    },
    {
      "cell_type": "code",
      "execution_count": null,
      "id": "6245a939",
      "metadata": {
        "id": "6245a939"
      },
      "outputs": [],
      "source": [
        "outcsv='myannoRU.csv'"
      ]
    },
    {
      "cell_type": "code",
      "execution_count": null,
      "id": "0a8fa17e",
      "metadata": {
        "id": "0a8fa17e"
      },
      "outputs": [],
      "source": [
        "ll.main(incsv,outcsv) # calling main function"
      ]
    },
    {
      "cell_type": "code",
      "execution_count": null,
      "id": "2aabf959",
      "metadata": {
        "id": "2aabf959"
      },
      "outputs": [],
      "source": [
        "#pd.set_option('max_row', None)  #Show contents of all rows ,can be used if required"
      ]
    },
    {
      "cell_type": "code",
      "execution_count": null,
      "id": "def2ce46",
      "metadata": {
        "id": "def2ce46"
      },
      "outputs": [],
      "source": [
        "pd.set_option('display.max_columns', None) #Show contents of all columns"
      ]
    },
    {
      "cell_type": "code",
      "execution_count": null,
      "id": "4f92a061",
      "metadata": {
        "id": "4f92a061"
      },
      "outputs": [],
      "source": [
        "print(\"\")"
      ]
    },
    {
      "cell_type": "markdown",
      "source": [
        "**Step1 :Cleaning of data**\n",
        "\n",
        "Dataset format\n",
        "\n",
        "                                                Text\n",
        "0                 khushi is so cute i love my khushi\n",
        "\n",
        "1  Muft mae nhi seekha udasi mae muskurane ka hun...\n",
        "\n",
        "2  ajeeb situation hai #halchal bhai khush hon ya...\n",
        "\n",
        "3          We Are Proud of Darshan Raval! Zabardast.\n",
        "\n",
        "4                            Akele reh jaoge üåö‚ô•\n"
      ],
      "metadata": {
        "id": "sYR8Cu-Ljv_Y"
      },
      "id": "sYR8Cu-Ljv_Y"
    },
    {
      "cell_type": "code",
      "execution_count": null,
      "id": "1d7a38af",
      "metadata": {
        "id": "1d7a38af"
      },
      "outputs": [],
      "source": [
        "print('File annotated..')"
      ]
    },
    {
      "cell_type": "code",
      "execution_count": null,
      "id": "12082404",
      "metadata": {
        "id": "12082404"
      },
      "outputs": [],
      "source": [
        "print(\"\")"
      ]
    },
    {
      "cell_type": "code",
      "execution_count": null,
      "id": "095514ee",
      "metadata": {
        "id": "095514ee"
      },
      "outputs": [],
      "source": [
        "df = pd.read_csv(outcsv,encoding='mac_roman') #open output CSV file as data frame"
      ]
    },
    {
      "cell_type": "code",
      "execution_count": null,
      "id": "2826ac06",
      "metadata": {
        "id": "2826ac06"
      },
      "outputs": [],
      "source": [
        "print(df.head(5)) #display contents of first 5 lines"
      ]
    },
    {
      "cell_type": "code",
      "execution_count": null,
      "id": "84c8eb4a",
      "metadata": {
        "id": "84c8eb4a"
      },
      "outputs": [],
      "source": []
    },
    {
      "cell_type": "markdown",
      "source": [
        "**Step2: Annotation of emotions for mixed codes (Roman Urdu and English)**\n"
      ],
      "metadata": {
        "id": "Ex9h3ixDkBFp"
      },
      "id": "Ex9h3ixDkBFp"
    },
    {
      "cell_type": "code",
      "source": [
        "Wait for few seconds......\n",
        "\n",
        "File annotated..\n",
        "\n",
        "                                Text        Lexicon       Emotion Sentiments\n",
        "0            khushi cute love khushi      khushi(ru)           Joy   Positive\n",
        "1  muft seekha udasi muskurane hunar      udasi(ru)       Sadness   Negative\n",
        "2   ajeeb situation bhai khush dukhi      ajeeb(ru)          Fear   Negative\n",
        "3      proud darshan raval zabardast      proud(eu)  Anticipation   Positive\n",
        "4                    akele reh jaoge  lex not found       Neutral    Neutral\n",
        "\n",
        "       Mood\n",
        "0      Good\n",
        "1       Bad\n",
        "2       Bad\n",
        "3      Good\n",
        "4  Moderate"
      ],
      "metadata": {
        "id": "tWnq-DArmv_R"
      },
      "id": "tWnq-DArmv_R",
      "execution_count": null,
      "outputs": []
    }
  ],
  "metadata": {
    "colab": {
      "provenance": []
    },
    "language_info": {
      "name": "python"
    },
    "kernelspec": {
      "name": "python3",
      "display_name": "Python 3"
    }
  },
  "nbformat": 4,
  "nbformat_minor": 5
}